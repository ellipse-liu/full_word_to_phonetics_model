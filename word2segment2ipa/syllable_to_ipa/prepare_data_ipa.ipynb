{
 "cells": [
  {
   "cell_type": "code",
   "execution_count": 17,
   "id": "7494afbc-68f2-494c-b3a9-cb8acc5e7644",
   "metadata": {},
   "outputs": [],
   "source": [
    "import pickle\n",
    "import random\n",
    "import eng_to_ipa as ipa"
   ]
  },
  {
   "cell_type": "code",
   "execution_count": 18,
   "id": "4f99070c-20eb-448f-ad6a-a770624a558b",
   "metadata": {},
   "outputs": [],
   "source": [
    "dataset_file = open('dataset.txt')\n",
    "\n",
    "dataset = dataset_file.readlines()\n",
    "dataset = [word.strip('\\n') for word in dataset]\n",
    "random.shuffle(dataset)"
   ]
  },
  {
   "cell_type": "code",
   "execution_count": 19,
   "id": "94fc2b9b-df87-4bb7-a49e-946997d11288",
   "metadata": {},
   "outputs": [],
   "source": [
    "training_data_ipa = open('training_data_ipa.txt', 'w+', encoding = 'utf-8')\n",
    "metadata_ipa_file = open('metadata_ipa.txt', 'w+')\n",
    "\n",
    "ipa_max_encoder_len = 0\n",
    "ipa_max_decoder_len = 0\n",
    "\n",
    "data_counter = 0\n",
    "\n",
    "existing_syl = []\n",
    "\n",
    "ipa_encoder_vocab = []\n",
    "ipa_decoder_vocab = []\n",
    "\n",
    "def ipa_splitter(line):\n",
    "    global training_data_ipa\n",
    "    global ipa_max_encoder_len\n",
    "    global ipa_max_decoder_len\n",
    "    global ipa_encoder_vocab\n",
    "    global ipa_decoder_vocab\n",
    "    global existing_syl\n",
    "    global data_counter\n",
    "    syllables = line.split(';')\n",
    "    for syl in syllables:\n",
    "        if syl not in existing_syl:\n",
    "            existing_syl += [syl]\n",
    "            translation = ipa.convert(syl)\n",
    "            if not translation.endswith('*'):\n",
    "                data_counter += 1\n",
    "                translation = '<' + translation + '>'\n",
    "                ipa_max_encoder_len = max(len(syl), ipa_max_encoder_len)\n",
    "                ipa_max_decoder_len = max(len(translation), ipa_max_decoder_len)\n",
    "                training_data_ipa.write(syl + '\\t' + translation + '\\n')\n",
    "                for c in syl:\n",
    "                    if c not in ipa_encoder_vocab:\n",
    "                        ipa_encoder_vocab += [c]\n",
    "                for i in translation:\n",
    "                    if i not in ipa_decoder_vocab:\n",
    "                        ipa_decoder_vocab += [i]"
   ]
  },
  {
   "cell_type": "code",
   "execution_count": 20,
   "id": "112cbb0d-04da-4189-8ad2-90b37a08550f",
   "metadata": {},
   "outputs": [
    {
     "name": "stdout",
     "output_type": "stream",
     "text": [
      "4893\n"
     ]
    }
   ],
   "source": [
    "# creating syllable to ipa data\n",
    "for line in dataset:\n",
    "    ipa_splitter(line)\n",
    "\n",
    "ipa_encoder_vocab = sorted(ipa_encoder_vocab)\n",
    "ipa_decoder_vocab = sorted(ipa_decoder_vocab)\n",
    "\n",
    "ipa_encoder_to_int = dict((a,i) for i,a in enumerate(ipa_encoder_vocab, 1))\n",
    "ipa_int_to_encoder = dict((i,a) for i,a in enumerate(ipa_encoder_vocab, 1))\n",
    "\n",
    "ipa_decoder_to_int = dict((a,i) for i,a in enumerate(ipa_decoder_vocab, 1))\n",
    "ipa_int_to_decoder = dict((i,a) for i,a in enumerate(ipa_decoder_vocab, 1))\n",
    "\n",
    "ipa_num_encoder_vocab = len(ipa_encoder_vocab) + 1\n",
    "ipa_num_decoder_vocab = len(ipa_decoder_vocab) + 1    \n",
    "\n",
    "training_data_ipa.close()\n",
    "metadata_ipa_file.write(\"ipa_max_encoder_len: \" + '\\t' + str(ipa_max_encoder_len) + '\\n')\n",
    "metadata_ipa_file.write(\"ipa_max_decoder_len: \" + '\\t' + str(ipa_max_decoder_len) + '\\n')\n",
    "metadata_ipa_file.write(\"ipa_num_encoder_vocab: \" + '\\t' + str(ipa_num_encoder_vocab) + '\\n')\n",
    "metadata_ipa_file.write(\"ipa_num_decoder_vocab: \" + '\\t' + str(ipa_num_decoder_vocab) + '\\n')\n",
    "metadata_ipa_file.close()\n",
    "\n",
    "print(data_counter)"
   ]
  },
  {
   "cell_type": "code",
   "execution_count": 21,
   "id": "f543d1d4-b438-4030-b9cb-d0b445671c1f",
   "metadata": {},
   "outputs": [],
   "source": [
    "e2i_file = open('ipa_e2i.pkl' , 'wb')\n",
    "i2e_file = open('ipa_i2e.pkl' , 'wb')\n",
    "d2i_file = open('ipa_d2i.pkl' , 'wb')\n",
    "i2d_file = open('ipa_i2d.pkl' , 'wb')\n",
    "\n",
    "pickle.dump(ipa_encoder_to_int, e2i_file)\n",
    "pickle.dump(ipa_int_to_encoder, i2e_file)\n",
    "pickle.dump(ipa_decoder_to_int, d2i_file)\n",
    "pickle.dump(ipa_int_to_decoder, i2d_file)\n",
    "\n",
    "e2i_file.close()\n",
    "i2e_file.close()\n",
    "d2i_file.close()\n",
    "i2d_file.close()"
   ]
  },
  {
   "cell_type": "code",
   "execution_count": null,
   "id": "7fd3aa9b-7772-46ec-8202-c31df1e128b4",
   "metadata": {},
   "outputs": [],
   "source": []
  }
 ],
 "metadata": {
  "kernelspec": {
   "display_name": "Python [conda env:laptop_sketchbook] *",
   "language": "python",
   "name": "conda-env-laptop_sketchbook-py"
  },
  "language_info": {
   "codemirror_mode": {
    "name": "ipython",
    "version": 3
   },
   "file_extension": ".py",
   "mimetype": "text/x-python",
   "name": "python",
   "nbconvert_exporter": "python",
   "pygments_lexer": "ipython3",
   "version": "3.7.16"
  }
 },
 "nbformat": 4,
 "nbformat_minor": 5
}
