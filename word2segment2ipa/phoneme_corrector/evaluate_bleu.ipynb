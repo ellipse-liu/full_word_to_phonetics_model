{
 "cells": [
  {
   "cell_type": "code",
   "execution_count": 1,
   "id": "66cc7b65-c5b8-42db-8a7d-2432d53c2d41",
   "metadata": {},
   "outputs": [],
   "source": [
    "from nltk.translate.bleu_score import sentence_bleu"
   ]
  },
  {
   "cell_type": "code",
   "execution_count": 20,
   "id": "61146b5d-958d-41c4-9789-14d882bad6ff",
   "metadata": {},
   "outputs": [],
   "source": [
    "def evaluate_bleu(filename):\n",
    "    verifile = open(filename, encoding='utf-8')\n",
    "    output_bleu = open('output_bleu.txt', 'w+', encoding='utf-8')\n",
    "    counter = 0\n",
    "    sum_bleu = 0\n",
    "    verifitems = verifile.readlines()\n",
    "    verifitems = [lines.strip('\\n') for lines in verifitems]\n",
    "    verifitems = [lines.split('\\t') for lines in verifitems]\n",
    "    num_items = len(verifitems)\n",
    "    for line in verifitems:\n",
    "        bleu_score = calc_bleu(line[2][1:-1], line[1])\n",
    "        sum_bleu += bleu_score\n",
    "        output_bleu.write(line[0] + '\\t' + line[1] + '\\t' + line[2][1:-1] + '\\t' + 'Bleu score: %f'%bleu_score + '\\n')\n",
    "        counter += 1\n",
    "        print(counter, end='\\r')\n",
    "    output_bleu.write('Number of words: ' + str(num_items) + '\\n')\n",
    "    output_bleu.write('Average bleu_score = %f'%(sum_bleu/num_items))\n",
    "    output_bleu.close()\n",
    "    print(\"Completed!\")\n",
    "    print('Number of words: ' + str(num_items))\n",
    "    print('Average bleu_score = %f'%(sum_bleu/num_items))"
   ]
  },
  {
   "cell_type": "code",
   "execution_count": 21,
   "id": "ec68ac78-25d0-4e8e-9b79-2ffec17ad7b6",
   "metadata": {},
   "outputs": [],
   "source": [
    "def calc_bleu(ref, cand):\n",
    "    reference = [*ref]\n",
    "    candidate = [*cand]\n",
    "    return sentence_bleu(reference, candidate, weights=(1, 0, 0, 0))"
   ]
  },
  {
   "cell_type": "code",
   "execution_count": 23,
   "id": "883a5e7d-c6a9-443c-a03d-021d2656f948",
   "metadata": {},
   "outputs": [
    {
     "name": "stdout",
     "output_type": "stream",
     "text": [
      "Completed!\n",
      "Number of words: 1776\n",
      "Average bleu_score = 0.736532\n"
     ]
    }
   ],
   "source": [
    "evaluate_bleu('training_data_ipa2ipa.txt')"
   ]
  },
  {
   "cell_type": "code",
   "execution_count": null,
   "id": "26eb2e8c-70b7-4098-927c-494efa0d1c2b",
   "metadata": {},
   "outputs": [],
   "source": []
  }
 ],
 "metadata": {
  "kernelspec": {
   "display_name": "Python [conda env:laptop_sketchbook] *",
   "language": "python",
   "name": "conda-env-laptop_sketchbook-py"
  },
  "language_info": {
   "codemirror_mode": {
    "name": "ipython",
    "version": 3
   },
   "file_extension": ".py",
   "mimetype": "text/x-python",
   "name": "python",
   "nbconvert_exporter": "python",
   "pygments_lexer": "ipython3",
   "version": "3.7.16"
  }
 },
 "nbformat": 4,
 "nbformat_minor": 5
}
